{
 "cells": [
  {
   "cell_type": "markdown",
   "metadata": {},
   "source": [
    "# Taxi Cost Prediction using Linear Regression "
   ]
  },
  {
   "cell_type": "code",
   "execution_count": 3,
   "metadata": {},
   "outputs": [],
   "source": [
    "import numpy as np\n",
    "from sklearn import datasets, linear_model, metrics\n",
    "import pandas as pd\n",
    "import seaborn as sns\n",
    "import matplotlib.pyplot as plt\n",
    "from datetime import datetime\n",
    "import math"
   ]
  },
  {
   "cell_type": "code",
   "execution_count": 19,
   "metadata": {},
   "outputs": [],
   "source": [
    "def side_by_side(*objs, **kwds):\n",
    "    from pandas.io.formats.printing import adjoin\n",
    "    space = kwds.get('space', 4)\n",
    "    reprs = [repr(obj).split('\\n') for obj in objs]\n",
    "    print (adjoin(space, *reprs))\n",
    "    print()\n",
    "    return"
   ]
  },
  {
   "cell_type": "markdown",
   "metadata": {},
   "source": [
    "# 1. Data Loading and Cleaning "
   ]
  },
  {
   "cell_type": "markdown",
   "metadata": {},
   "source": [
    "##### There are data is loaded from two separate tables. The first table contains data about travel (features w) and the second table contains our target value, y (cost of the travel).  "
   ]
  },
  {
   "cell_type": "code",
   "execution_count": 71,
   "metadata": {},
   "outputs": [
    {
     "name": "stdout",
     "output_type": "stream",
     "text": [
      "Computing time takes 0:00:06.751125\n"
     ]
    }
   ],
   "source": [
    "start = datetime.now()\n",
    "# taxiOrdersDF is feature set \n",
    "taxiOrdersDF = pd.read_csv('./orders_2019.csv', sep=';', \n",
    "                           usecols=[\"id\", \"client_id\", \"driver_id\", \"status\", \"from_adres\", \"coord_from_adres\", \n",
    "                                   \"to_adres\", \"coord_to_adres\", \"date\", \"dateRequest\", \"tariffID\", \"payment_type_id\", \n",
    "                                   \"order_from_lat\", \"order_from_lon\", \"order_to_lat\", \"order_to_lon\", \"geozone_id\"],\n",
    "                           encoding = 'UTF-8')\n",
    "\n",
    "# taxiOrdersDetailsDF is target value (label)  \n",
    "taxiOrdersDetailsDF = pd.read_csv('./order_details_2019.csv', sep=';',\n",
    "                                   usecols=[\"order_id\", \"total_cost\"], encoding = 'UTF-8')\n",
    "print(\"Computing time takes %s\" %(datetime.now()-start))"
   ]
  },
  {
   "cell_type": "markdown",
   "metadata": {},
   "source": [
    "#### Info about data"
   ]
  },
  {
   "cell_type": "code",
   "execution_count": 72,
   "metadata": {},
   "outputs": [
    {
     "name": "stdout",
     "output_type": "stream",
     "text": [
      "Index(['id', 'client_id', 'driver_id', 'status', 'from_adres',\n",
      "       'coord_from_adres', 'to_adres', 'coord_to_adres', 'date', 'dateRequest',\n",
      "       'tariffID', 'payment_type_id', 'geozone_id', 'order_from_lat',\n",
      "       'order_from_lon', 'order_to_lat', 'order_to_lon'],\n",
      "      dtype='object')\n",
      "Index(['order_id', 'total_cost'], dtype='object')\n"
     ]
    }
   ],
   "source": [
    "print(taxiOrdersDF.columns)\n",
    "print(taxiOrdersDetailsDF.columns)"
   ]
  },
  {
   "cell_type": "code",
   "execution_count": 73,
   "metadata": {},
   "outputs": [
    {
     "name": "stdout",
     "output_type": "stream",
     "text": [
      "<class 'pandas.core.frame.DataFrame'>\n",
      "RangeIndex: 697585 entries, 0 to 697584\n",
      "Data columns (total 17 columns):\n",
      "id                  697585 non-null int64\n",
      "client_id           694462 non-null float64\n",
      "driver_id           569763 non-null float64\n",
      "status              697583 non-null float64\n",
      "from_adres          697339 non-null object\n",
      "coord_from_adres    697404 non-null object\n",
      "to_adres            515520 non-null object\n",
      "coord_to_adres      697404 non-null object\n",
      "date                697585 non-null object\n",
      "dateRequest         697585 non-null object\n",
      "tariffID            697585 non-null int64\n",
      "payment_type_id     697585 non-null int64\n",
      "geozone_id          694281 non-null float64\n",
      "order_from_lat      697404 non-null float64\n",
      "order_from_lon      697404 non-null float64\n",
      "order_to_lat        697404 non-null float64\n",
      "order_to_lon        697404 non-null float64\n",
      "dtypes: float64(8), int64(3), object(6)\n",
      "memory usage: 90.5+ MB\n"
     ]
    }
   ],
   "source": [
    "taxiOrdersDF.info()"
   ]
  },
  {
   "cell_type": "markdown",
   "metadata": {},
   "source": [
    "### Checking missing records which contains null values, they should be cleaned "
   ]
  },
  {
   "cell_type": "code",
   "execution_count": 74,
   "metadata": {},
   "outputs": [
    {
     "name": "stdout",
     "output_type": "stream",
     "text": [
      "id                       0    id                  697585\n",
      "client_id             3123    client_id           694462\n",
      "driver_id           127822    driver_id           569763\n",
      "status                   2    status              697583\n",
      "from_adres             246    from_adres          697339\n",
      "coord_from_adres       181    coord_from_adres    697404\n",
      "to_adres            182065    to_adres            515520\n",
      "coord_to_adres         181    coord_to_adres      697404\n",
      "date                     0    date                697585\n",
      "dateRequest              0    dateRequest         697585\n",
      "tariffID                 0    tariffID            697585\n",
      "payment_type_id          0    payment_type_id     697585\n",
      "geozone_id            3304    geozone_id          694281\n",
      "order_from_lat         181    order_from_lat      697404\n",
      "order_from_lon         181    order_from_lon      697404\n",
      "order_to_lat           181    order_to_lat        697404\n",
      "order_to_lon           181    order_to_lon        697404\n",
      "dtype: int64                  dtype: int64              \n",
      "\n"
     ]
    }
   ],
   "source": [
    "side_by_side(taxiOrdersDF.isnull().sum(), taxiOrdersDF.count())"
   ]
  },
  {
   "cell_type": "code",
   "execution_count": 75,
   "metadata": {},
   "outputs": [
    {
     "name": "stdout",
     "output_type": "stream",
     "text": [
      "order_id      0    order_id      498787\n",
      "total_cost    0    total_cost    498787\n",
      "dtype: int64       dtype: int64        \n",
      "\n"
     ]
    }
   ],
   "source": [
    "side_by_side(taxiOrdersDetailsDF.isnull().sum(), taxiOrdersDetailsDF.count())"
   ]
  },
  {
   "cell_type": "code",
   "execution_count": 76,
   "metadata": {},
   "outputs": [
    {
     "data": {
      "text/plain": [
       "498764"
      ]
     },
     "execution_count": 76,
     "metadata": {},
     "output_type": "execute_result"
    }
   ],
   "source": [
    "taxiOrdersDF.status[taxiOrdersDF.status == 7].count()"
   ]
  },
  {
   "cell_type": "markdown",
   "metadata": {},
   "source": [
    "### Data preprocessing"
   ]
  },
  {
   "cell_type": "code",
   "execution_count": 77,
   "metadata": {},
   "outputs": [
    {
     "name": "stdout",
     "output_type": "stream",
     "text": [
      "Computing time takes 0:00:47.235924\n"
     ]
    }
   ],
   "source": [
    "start = datetime.now()\n",
    "taxiOrdersDF['date'] = taxiOrdersDF['date'].astype('datetime64[ns]')\n",
    "taxiOrdersDF['dateRequest'] = taxiOrdersDF['dateRequest'].astype('datetime64[ns]')\n",
    "print(\"Computing time takes %s\" %(datetime.now()-start))"
   ]
  },
  {
   "cell_type": "markdown",
   "metadata": {},
   "source": [
    "### Now, let's join these two tables "
   ]
  },
  {
   "cell_type": "code",
   "execution_count": 78,
   "metadata": {},
   "outputs": [],
   "source": [
    "taxiOrdersDF['id'] = taxiOrdersDF['id'].astype('int64')\n",
    "taxiOrdersDF.rename(columns={'id':'order_id'}, inplace=True)\n",
    "taxiOrdersJoinTotalCostDF = pd.merge(taxiOrdersDF, taxiOrdersDetailsDF, on='order_id', how='inner')"
   ]
  },
  {
   "cell_type": "code",
   "execution_count": 79,
   "metadata": {},
   "outputs": [
    {
     "name": "stdout",
     "output_type": "stream",
     "text": [
      "order_id               0    order_id            498786\n",
      "client_id           3084    client_id           495702\n",
      "driver_id              0    driver_id           498786\n",
      "status                 0    status              498786\n",
      "from_adres            64    from_adres          498722\n",
      "coord_from_adres       0    coord_from_adres    498786\n",
      "to_adres              19    to_adres            498767\n",
      "coord_to_adres         0    coord_to_adres      498786\n",
      "date                   0    date                498786\n",
      "dateRequest            0    dateRequest         498786\n",
      "tariffID               0    tariffID            498786\n",
      "payment_type_id        0    payment_type_id     498786\n",
      "geozone_id          3084    geozone_id          495702\n",
      "order_from_lat         0    order_from_lat      498786\n",
      "order_from_lon         0    order_from_lon      498786\n",
      "order_to_lat           0    order_to_lat        498786\n",
      "order_to_lon           0    order_to_lon        498786\n",
      "total_cost             0    total_cost          498786\n",
      "dtype: int64                dtype: int64              \n",
      "\n"
     ]
    }
   ],
   "source": [
    "side_by_side(taxiOrdersJoinTotalCostDF.isnull().sum(), taxiOrdersJoinTotalCostDF.count())"
   ]
  },
  {
   "cell_type": "markdown",
   "metadata": {},
   "source": [
    "#### By joining these two tables, many missing records are cleaned."
   ]
  },
  {
   "cell_type": "markdown",
   "metadata": {},
   "source": [
    "### Clean missing records "
   ]
  },
  {
   "cell_type": "code",
   "execution_count": 82,
   "metadata": {},
   "outputs": [],
   "source": [
    "taxiOrdersJoinTotalCostDF.dropna(inplace=True)"
   ]
  },
  {
   "cell_type": "code",
   "execution_count": 83,
   "metadata": {},
   "outputs": [
    {
     "name": "stdout",
     "output_type": "stream",
     "text": [
      "order_id            0    order_id            495683\n",
      "client_id           0    client_id           495683\n",
      "driver_id           0    driver_id           495683\n",
      "status              0    status              495683\n",
      "from_adres          0    from_adres          495683\n",
      "coord_from_adres    0    coord_from_adres    495683\n",
      "to_adres            0    to_adres            495683\n",
      "coord_to_adres      0    coord_to_adres      495683\n",
      "date                0    date                495683\n",
      "dateRequest         0    dateRequest         495683\n",
      "tariffID            0    tariffID            495683\n",
      "payment_type_id     0    payment_type_id     495683\n",
      "geozone_id          0    geozone_id          495683\n",
      "order_from_lat      0    order_from_lat      495683\n",
      "order_from_lon      0    order_from_lon      495683\n",
      "order_to_lat        0    order_to_lat        495683\n",
      "order_to_lon        0    order_to_lon        495683\n",
      "total_cost          0    total_cost          495683\n",
      "dtype: int64             dtype: int64              \n",
      "\n"
     ]
    }
   ],
   "source": [
    "side_by_side(taxiOrdersJoinTotalCostDF.isnull().sum(), taxiOrdersJoinTotalCostDF.count())"
   ]
  },
  {
   "cell_type": "markdown",
   "metadata": {},
   "source": [
    "#### Data is clean now without any null value"
   ]
  },
  {
   "cell_type": "code",
   "execution_count": 86,
   "metadata": {},
   "outputs": [],
   "source": [
    "taxiOrdersJoinTotalCostDF.drop([\"order_id\"], axis=1, inplace = True) \n",
    "taxiOrdersDF = taxiOrdersJoinTotalCostDF # rename taxiOrdersJoinTotalCostDF "
   ]
  },
  {
   "cell_type": "markdown",
   "metadata": {},
   "source": [
    "# 2. Data Wrangling and Features Engineering"
   ]
  },
  {
   "cell_type": "code",
   "execution_count": 87,
   "metadata": {},
   "outputs": [
    {
     "data": {
      "text/html": [
       "<div>\n",
       "<style scoped>\n",
       "    .dataframe tbody tr th:only-of-type {\n",
       "        vertical-align: middle;\n",
       "    }\n",
       "\n",
       "    .dataframe tbody tr th {\n",
       "        vertical-align: top;\n",
       "    }\n",
       "\n",
       "    .dataframe thead th {\n",
       "        text-align: right;\n",
       "    }\n",
       "</style>\n",
       "<table border=\"1\" class=\"dataframe\">\n",
       "  <thead>\n",
       "    <tr style=\"text-align: right;\">\n",
       "      <th></th>\n",
       "      <th>count</th>\n",
       "      <th>mean</th>\n",
       "      <th>std</th>\n",
       "      <th>min</th>\n",
       "      <th>25%</th>\n",
       "      <th>50%</th>\n",
       "      <th>75%</th>\n",
       "      <th>max</th>\n",
       "    </tr>\n",
       "  </thead>\n",
       "  <tbody>\n",
       "    <tr>\n",
       "      <th>client_id</th>\n",
       "      <td>495683.0</td>\n",
       "      <td>123844.505950</td>\n",
       "      <td>71777.427859</td>\n",
       "      <td>641.000000</td>\n",
       "      <td>61088.000000</td>\n",
       "      <td>123652.000000</td>\n",
       "      <td>185933.000000</td>\n",
       "      <td>2.575590e+05</td>\n",
       "    </tr>\n",
       "    <tr>\n",
       "      <th>driver_id</th>\n",
       "      <td>495683.0</td>\n",
       "      <td>4862.048715</td>\n",
       "      <td>1751.409890</td>\n",
       "      <td>23.000000</td>\n",
       "      <td>4107.000000</td>\n",
       "      <td>5168.000000</td>\n",
       "      <td>6305.000000</td>\n",
       "      <td>7.598000e+03</td>\n",
       "    </tr>\n",
       "    <tr>\n",
       "      <th>status</th>\n",
       "      <td>495683.0</td>\n",
       "      <td>7.006803</td>\n",
       "      <td>0.324455</td>\n",
       "      <td>2.000000</td>\n",
       "      <td>7.000000</td>\n",
       "      <td>7.000000</td>\n",
       "      <td>7.000000</td>\n",
       "      <td>2.500000e+01</td>\n",
       "    </tr>\n",
       "    <tr>\n",
       "      <th>tariffID</th>\n",
       "      <td>495683.0</td>\n",
       "      <td>12.445726</td>\n",
       "      <td>16.372089</td>\n",
       "      <td>1.000000</td>\n",
       "      <td>1.000000</td>\n",
       "      <td>1.000000</td>\n",
       "      <td>29.000000</td>\n",
       "      <td>6.900000e+01</td>\n",
       "    </tr>\n",
       "    <tr>\n",
       "      <th>payment_type_id</th>\n",
       "      <td>495683.0</td>\n",
       "      <td>1.119163</td>\n",
       "      <td>0.414902</td>\n",
       "      <td>1.000000</td>\n",
       "      <td>1.000000</td>\n",
       "      <td>1.000000</td>\n",
       "      <td>1.000000</td>\n",
       "      <td>4.000000e+00</td>\n",
       "    </tr>\n",
       "    <tr>\n",
       "      <th>geozone_id</th>\n",
       "      <td>495683.0</td>\n",
       "      <td>3.079393</td>\n",
       "      <td>0.869007</td>\n",
       "      <td>3.000000</td>\n",
       "      <td>3.000000</td>\n",
       "      <td>3.000000</td>\n",
       "      <td>3.000000</td>\n",
       "      <td>1.400000e+01</td>\n",
       "    </tr>\n",
       "    <tr>\n",
       "      <th>order_from_lat</th>\n",
       "      <td>495683.0</td>\n",
       "      <td>41.305949</td>\n",
       "      <td>0.045994</td>\n",
       "      <td>40.728624</td>\n",
       "      <td>41.292072</td>\n",
       "      <td>41.307184</td>\n",
       "      <td>41.325185</td>\n",
       "      <td>4.162943e+01</td>\n",
       "    </tr>\n",
       "    <tr>\n",
       "      <th>order_from_lon</th>\n",
       "      <td>495683.0</td>\n",
       "      <td>69.292684</td>\n",
       "      <td>0.213410</td>\n",
       "      <td>69.121891</td>\n",
       "      <td>69.258995</td>\n",
       "      <td>69.278161</td>\n",
       "      <td>69.298261</td>\n",
       "      <td>7.239590e+01</td>\n",
       "    </tr>\n",
       "    <tr>\n",
       "      <th>order_to_lat</th>\n",
       "      <td>495683.0</td>\n",
       "      <td>41.302248</td>\n",
       "      <td>0.369533</td>\n",
       "      <td>0.000000</td>\n",
       "      <td>41.290665</td>\n",
       "      <td>41.307402</td>\n",
       "      <td>41.326379</td>\n",
       "      <td>4.165737e+01</td>\n",
       "    </tr>\n",
       "    <tr>\n",
       "      <th>order_to_lon</th>\n",
       "      <td>495683.0</td>\n",
       "      <td>69.286350</td>\n",
       "      <td>0.704719</td>\n",
       "      <td>-120.924671</td>\n",
       "      <td>69.255708</td>\n",
       "      <td>69.277839</td>\n",
       "      <td>69.300326</td>\n",
       "      <td>7.256801e+01</td>\n",
       "    </tr>\n",
       "    <tr>\n",
       "      <th>total_cost</th>\n",
       "      <td>495683.0</td>\n",
       "      <td>15914.413672</td>\n",
       "      <td>51399.555239</td>\n",
       "      <td>2000.000000</td>\n",
       "      <td>9100.000000</td>\n",
       "      <td>13000.000000</td>\n",
       "      <td>18500.000000</td>\n",
       "      <td>8.388607e+06</td>\n",
       "    </tr>\n",
       "  </tbody>\n",
       "</table>\n",
       "</div>"
      ],
      "text/plain": [
       "                    count           mean           std          min  \\\n",
       "client_id        495683.0  123844.505950  71777.427859   641.000000   \n",
       "driver_id        495683.0    4862.048715   1751.409890    23.000000   \n",
       "status           495683.0       7.006803      0.324455     2.000000   \n",
       "tariffID         495683.0      12.445726     16.372089     1.000000   \n",
       "payment_type_id  495683.0       1.119163      0.414902     1.000000   \n",
       "geozone_id       495683.0       3.079393      0.869007     3.000000   \n",
       "order_from_lat   495683.0      41.305949      0.045994    40.728624   \n",
       "order_from_lon   495683.0      69.292684      0.213410    69.121891   \n",
       "order_to_lat     495683.0      41.302248      0.369533     0.000000   \n",
       "order_to_lon     495683.0      69.286350      0.704719  -120.924671   \n",
       "total_cost       495683.0   15914.413672  51399.555239  2000.000000   \n",
       "\n",
       "                          25%            50%            75%           max  \n",
       "client_id        61088.000000  123652.000000  185933.000000  2.575590e+05  \n",
       "driver_id         4107.000000    5168.000000    6305.000000  7.598000e+03  \n",
       "status               7.000000       7.000000       7.000000  2.500000e+01  \n",
       "tariffID             1.000000       1.000000      29.000000  6.900000e+01  \n",
       "payment_type_id      1.000000       1.000000       1.000000  4.000000e+00  \n",
       "geozone_id           3.000000       3.000000       3.000000  1.400000e+01  \n",
       "order_from_lat      41.292072      41.307184      41.325185  4.162943e+01  \n",
       "order_from_lon      69.258995      69.278161      69.298261  7.239590e+01  \n",
       "order_to_lat        41.290665      41.307402      41.326379  4.165737e+01  \n",
       "order_to_lon        69.255708      69.277839      69.300326  7.256801e+01  \n",
       "total_cost        9100.000000   13000.000000   18500.000000  8.388607e+06  "
      ]
     },
     "execution_count": 87,
     "metadata": {},
     "output_type": "execute_result"
    }
   ],
   "source": [
    "taxiOrdersDF.describe().T "
   ]
  },
  {
   "cell_type": "markdown",
   "metadata": {},
   "source": [
    "### Correlation between data "
   ]
  },
  {
   "cell_type": "code",
   "execution_count": 89,
   "metadata": {},
   "outputs": [
    {
     "data": {
      "text/plain": [
       "<matplotlib.axes._subplots.AxesSubplot at 0x250150bb3c8>"
      ]
     },
     "execution_count": 89,
     "metadata": {},
     "output_type": "execute_result"
    },
    {
     "data": {
      "image/png": "[encoded data removed]",
      "text/plain": [
       "<Figure size 432x288 with 2 Axes>"
      ]
     },
     "metadata": {
      "needs_background": "light"
     },
     "output_type": "display_data"
    }
   ],
   "source": [
    "corr = taxiOrdersDF.corr()\n",
    "sns.heatmap(corr, \n",
    "        xticklabels=corr.columns,\n",
    "        yticklabels=corr.columns)"
   ]
  },
  {
   "cell_type": "markdown",
   "metadata": {},
   "source": [
    "# 3. Training and Evaluating Machine Learning Model"
   ]
  },
  {
   "cell_type": "code",
   "execution_count": 90,
   "metadata": {},
   "outputs": [
    {
     "data": {
      "text/plain": [
       "(495683, 17)"
      ]
     },
     "execution_count": 90,
     "metadata": {},
     "output_type": "execute_result"
    }
   ],
   "source": [
    "taxiOrdersDF.shape"
   ]
  },
  {
   "cell_type": "code",
   "execution_count": 117,
   "metadata": {},
   "outputs": [],
   "source": [
    "taxiOrders_Y = taxiOrdersDF[\"total_cost\"]\n",
    "taxiOrders_X = taxiOrdersDF\n",
    "taxiOrders_X.drop([\"total_cost\", \"date\", \"dateRequest\"], axis=1, inplace = True) \n",
    "taxiOrders_X.drop([\"from_adres\", \"coord_from_adres\", \"to_adres\", \"coord_to_adres\"], axis=1, inplace = True) \n",
    "\n",
    "# Split the data into training/testing sets\n",
    "taxiOrders_X_train = taxiOrders_X[:-200]\n",
    "taxiOrders_X_test = taxiOrders_X[-200:]\n",
    "\n",
    "# Split the targets into training/testing sets\n",
    "taxiOrders_Y_train = taxiOrders_Y[:-200]\n",
    "taxiOrders_Y_test = taxiOrders_Y[-200:]"
   ]
  },
  {
   "cell_type": "code",
   "execution_count": 104,
   "metadata": {},
   "outputs": [],
   "source": [
    "taxiOrders_X.drop([\"from_adres\", \"coord_from_adres\", \"to_adres\", \"coord_to_adres\"], axis=1, inplace = True) "
   ]
  },
  {
   "cell_type": "markdown",
   "metadata": {},
   "source": [
    "### 3.1 Train"
   ]
  },
  {
   "cell_type": "code",
   "execution_count": null,
   "metadata": {},
   "outputs": [],
   "source": [
    "X = taxiOrders_X_train\n",
    "Y = taxiOrders_Y_train\n",
    "\n",
    "# choosing weights and bias randomly \n",
    "W = np.random.uniform(low=-0.1, high=0.1, size=taxiOrders_X.shape[1])\n",
    "b = 0.0\n",
    "\n",
    "learning_rate = 0.0000000001\n",
    "epochs = 1000\n",
    "\n",
    "# train: gradient descent\n",
    "for i in range(epochs):\n",
    "    # calculate predictions\n",
    "    y_predict = X.dot(W) + b\n",
    " \n",
    "    # calculate error and cost (mean squared error)\n",
    "    error = Y - y_predict\n",
    "    mean_squared_error = np.mean(np.power(error, 2))\n",
    " \n",
    "    # calculating gradients\n",
    "    W_gradient = -(1.0/len(X)) * error.dot(X)\n",
    "    b_gradient = -(1.0/len(X)) * np.sum(error)\n",
    " \n",
    "    # updating parameters\n",
    "    W = W - (learning_rate * W_gradient)\n",
    "    b = b - (learning_rate * b_gradient)\n",
    " \n",
    "    if i % 5 == 0: \n",
    "        print(\"Epoch %d: %f\" % (i, mean_squared_error))"
   ]
  },
  {
   "cell_type": "code",
   "execution_count": 131,
   "metadata": {},
   "outputs": [
    {
     "name": "stdout",
     "output_type": "stream",
     "text": [
      "-955865323481263.6\n",
      "-538611133081166.9\n",
      "-1019769177932823.6\n",
      "-698823337761388.2\n",
      "-690120197113429.1\n",
      "-417561016813799.2\n",
      "-576993731843810.9\n",
      "-523944880952435.1\n",
      "-311345112435004.5\n",
      "-747729469803542.5\n",
      "-368536800984045.7\n",
      "-769373557356924.2\n",
      "-1051249628097842.5\n",
      "-794333165715103.0\n",
      "-263030982889185.8\n",
      "-5790864876096.755\n",
      "-175904249704987.72\n",
      "-1018742012365193.0\n",
      "-37187678927049.83\n",
      "-136053417426605.06\n",
      "-1075519993214728.5\n",
      "-916962411422242.6\n",
      "-769531266659681.1\n",
      "-587332378817155.5\n",
      "-667766714719083.9\n",
      "-693629033392238.9\n",
      "-467392523622388.06\n",
      "-1014968072969638.1\n",
      "-123868713125023.31\n",
      "-1086288906848494.6\n",
      "-161343800090371.78\n",
      "-451419549433413.44\n",
      "-815165554627307.1\n",
      "-952005146635027.2\n",
      "-918409126056659.1\n",
      "-46387373839367.96\n",
      "-510758800875175.94\n",
      "-635544413663073.2\n",
      "-442254013713559.9\n",
      "-609793074994182.5\n",
      "-905718034667720.2\n",
      "-434258582055106.94\n",
      "-56114991545889.26\n",
      "-699030107438225.2\n",
      "-791818530846499.5\n",
      "-668863927175585.4\n",
      "-410741303847355.4\n",
      "-267323962096505.78\n",
      "-712971219527773.4\n",
      "-924024734677924.8\n",
      "-226661745449250.12\n",
      "-410100085956717.25\n",
      "-1065788005448217.5\n",
      "-675336791175565.2\n",
      "-950449782784361.6\n",
      "-138808229058523.69\n",
      "-1030552404853572.4\n",
      "-630603051871265.0\n",
      "-620442166398343.8\n",
      "-1015204374220400.1\n",
      "-694287206443554.6\n",
      "-1086128319735309.6\n",
      "-353502357176631.7\n",
      "-334244835940293.8\n",
      "-725094152649599.4\n",
      "-48776120839409.28\n",
      "-703715428570295.0\n",
      "-793924232040362.8\n",
      "-177676014234170.44\n",
      "-51485567971736.7\n",
      "-201350681499258.53\n",
      "-509634077232953.4\n",
      "-908338769766479.8\n",
      "-667597691025535.0\n",
      "-1011330316447460.6\n",
      "-612631337888473.9\n",
      "-453556865914759.0\n",
      "-69852264276298.15\n",
      "-668242897436437.5\n",
      "-117644621273655.92\n",
      "-509179393686143.3\n",
      "-806735011743789.9\n",
      "-857206380872210.8\n",
      "-459848872599356.5\n",
      "-1057422623806336.1\n",
      "-944287118006673.5\n",
      "-467342546136292.0\n",
      "-139878043349785.33\n",
      "-1040819966998197.5\n",
      "-632153679169595.4\n",
      "-634823274451220.1\n",
      "-1076747766340647.8\n",
      "-914397740115137.6\n",
      "-207780206194317.9\n",
      "-441749517576462.8\n",
      "-310971214866369.75\n",
      "-223753720231958.03\n",
      "-910256165264060.1\n",
      "-1082832579894622.8\n",
      "-968291900576393.9\n",
      "-884974310268404.8\n",
      "-773549487000194.4\n",
      "-172980324571817.84\n",
      "-960937859217921.5\n",
      "-613412604003378.9\n",
      "-985749552538705.8\n",
      "-715826667087574.8\n",
      "-314015033415195.44\n",
      "-936044884162887.8\n",
      "-528274780052755.2\n",
      "-997625818359358.6\n",
      "-149183478357890.72\n",
      "-184939652745519.28\n",
      "-162908069053932.9\n",
      "-341672319791904.3\n",
      "-1010014856531147.6\n",
      "-278015710577404.1\n",
      "-753138482823991.5\n",
      "-905303097466697.5\n",
      "-866861021666689.2\n",
      "-660745624177841.9\n",
      "-884535926243071.6\n",
      "-703481496887473.9\n",
      "-478217769199988.3\n",
      "-871308842400859.4\n",
      "-8895929408411.643\n",
      "-734612758301786.1\n",
      "-131750106694096.38\n",
      "-45724493171550.836\n",
      "-813963488758662.0\n",
      "-988653142661893.6\n",
      "-139474869351314.28\n",
      "-202646879711978.4\n",
      "-686670700383918.5\n",
      "-987244766058825.2\n",
      "-468398445773786.3\n",
      "-690012460866092.4\n",
      "-883809134105510.0\n",
      "-291014350166872.6\n",
      "-242368188985745.75\n",
      "-949964261487696.5\n",
      "-617711371275057.9\n",
      "-983267327532978.6\n",
      "-295683021252358.3\n",
      "-1022342433673980.9\n",
      "-907429741908894.5\n",
      "-698957272186207.2\n",
      "-891413137292193.0\n",
      "-1086468971659825.0\n",
      "-855299911411804.6\n",
      "-203674954497187.53\n",
      "-781021314723770.4\n",
      "-917155686736555.0\n",
      "-685701510730566.8\n",
      "-219426819307501.8\n",
      "-1080521330725332.4\n",
      "-934247099692804.4\n",
      "-219740609233048.66\n",
      "-185487227386710.28\n",
      "-248087632835733.78\n",
      "-1076580649353034.1\n",
      "-366804154441702.0\n",
      "-652560471744647.2\n",
      "-271757389601456.7\n",
      "-692766805900641.2\n",
      "-686082444500978.9\n",
      "-582957965785079.5\n",
      "-206053007171424.9\n",
      "-417331057713924.7\n",
      "-49603368356667.53\n",
      "-61353531958722.65\n",
      "-440901545823778.0\n",
      "-622646033125247.9\n",
      "-790811036455127.6\n",
      "-806338170554428.0\n",
      "-667995724133314.8\n",
      "-928049446351218.2\n",
      "-339450107492604.8\n",
      "-1056901395489127.8\n",
      "-203200500719794.28\n",
      "-577421981736110.4\n",
      "-1086227783567710.1\n",
      "-566619258682954.0\n",
      "-70128877008652.16\n",
      "-1068081796803750.5\n",
      "-1056826880762618.5\n",
      "-418259617512000.7\n",
      "-34365742345525.113\n",
      "-884997788983626.5\n",
      "-472413329575750.25\n",
      "-1034293157783391.4\n",
      "-853660344341828.5\n",
      "-483294360595615.1\n",
      "-187815098649277.34\n",
      "-327295783610495.06\n",
      "-483809861727347.44\n",
      "-554230737806470.56\n",
      "-411839898870648.75\n",
      "-123056032364047.7\n",
      "-577471941645000.8\n",
      "Mean squared error: 462691708608278636873008545792.00\n",
      "========================================================================================================================\n"
     ]
    }
   ],
   "source": [
    "# test\n",
    "X = taxiOrders_X_test\n",
    "y = taxiOrders_Y_test\n",
    " \n",
    "y_predict = X.dot(W) + b\n",
    "for i in y_predict: \n",
    "    print (i)\n",
    "error = y - y_predict\n",
    "mean_squared_error = np.mean(np.power(error, 2))\n",
    "print(\"Mean squared error: %.2f\" % mean_squared_error)\n",
    "print(\"=\"*120)"
   ]
  },
  {
   "cell_type": "code",
   "execution_count": null,
   "metadata": {},
   "outputs": [],
   "source": []
  }
 ],
 "metadata": {
  "kernelspec": {
   "display_name": "Python 3",
   "language": "python",
   "name": "python3"
  },
  "language_info": {
   "codemirror_mode": {
    "name": "ipython",
    "version": 3
   },
   "file_extension": ".py",
   "mimetype": "text/x-python",
   "name": "python",
   "nbconvert_exporter": "python",
   "pygments_lexer": "ipython3",
   "version": "3.6.5"
  }
 },
 "nbformat": 4,
 "nbformat_minor": 2
}
