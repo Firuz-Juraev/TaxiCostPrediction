{
 "cells": [
  {
   "cell_type": "markdown",
   "metadata": {},
   "source": [
    "# Taxi Cost Prediction using Linear Regression "
   ]
  },
  {
   "cell_type": "code",
   "execution_count": 1,
   "metadata": {},
   "outputs": [],
   "source": [
    "import numpy as np\n",
    "from sklearn import datasets, linear_model, metrics\n",
    "import pandas as pd\n",
    "import seaborn as sns\n",
    "import matplotlib.pyplot as plt\n",
    "from datetime import datetime\n",
    "import math"
   ]
  },
  {
   "cell_type": "code",
   "execution_count": 2,
   "metadata": {},
   "outputs": [],
   "source": [
    "def side_by_side(*objs, **kwds):\n",
    "    from pandas.io.formats.printing import adjoin\n",
    "    space = kwds.get('space', 4)\n",
    "    reprs = [repr(obj).split('\\n') for obj in objs]\n",
    "    print (adjoin(space, *reprs))\n",
    "    print()\n",
    "    return"
   ]
  },
  {
   "cell_type": "markdown",
   "metadata": {},
   "source": [
    "# 1. Data Loading and Cleaning "
   ]
  },
  {
   "cell_type": "code",
   "execution_count": 4,
   "metadata": {},
   "outputs": [
    {
     "name": "stdout",
     "output_type": "stream",
     "text": [
      "Computing time takes 0:00:03.074262\n"
     ]
    }
   ],
   "source": [
    "start = datetime.now()\n",
    "# taxiOrdersDF is feature set \n",
    "taxiOrdersDF = pd.read_csv('./orders_2019.csv', sep=';', \n",
    "                           usecols=[\"id\",\"tariffID\", \"payment_type_id\"],\n",
    "                           encoding = 'UTF-8')\n",
    "\n",
    "# taxiOrdersDetailsDF is target value (label)  \n",
    "taxiOrdersDetailsDF = pd.read_csv('./order_details_2019.csv', sep=';',\n",
    "                                   usecols=[\"order_id\", \"total_cost\", \"driving_time\",\n",
    "                                            \"driving_distance\", \"distance_cost_per_km\"], encoding = 'UTF-8')\n",
    "print(\"Computing time takes %s\" %(datetime.now()-start))"
   ]
  },
  {
   "cell_type": "markdown",
   "metadata": {},
   "source": [
    "### Info about data"
   ]
  },
  {
   "cell_type": "code",
   "execution_count": 5,
   "metadata": {},
   "outputs": [
    {
     "name": "stdout",
     "output_type": "stream",
     "text": [
      "Index(['id', 'tariffID', 'payment_type_id'], dtype='object')\n",
      "Index(['order_id', 'driving_time', 'distance_cost_per_km', 'total_cost',\n",
      "       'driving_distance'],\n",
      "      dtype='object')\n"
     ]
    }
   ],
   "source": [
    "print(taxiOrdersDF.columns)\n",
    "print(taxiOrdersDetailsDF.columns)"
   ]
  },
  {
   "cell_type": "code",
   "execution_count": 6,
   "metadata": {},
   "outputs": [
    {
     "name": "stdout",
     "output_type": "stream",
     "text": [
      "<class 'pandas.core.frame.DataFrame'>\n",
      "RangeIndex: 697585 entries, 0 to 697584\n",
      "Data columns (total 3 columns):\n",
      "id                 697585 non-null int64\n",
      "tariffID           697585 non-null int64\n",
      "payment_type_id    697585 non-null int64\n",
      "dtypes: int64(3)\n",
      "memory usage: 16.0 MB\n"
     ]
    }
   ],
   "source": [
    "taxiOrdersDF.info()"
   ]
  },
  {
   "cell_type": "markdown",
   "metadata": {},
   "source": [
    "### Checking missing records which contains null values, they should be cleaned "
   ]
  },
  {
   "cell_type": "code",
   "execution_count": 7,
   "metadata": {},
   "outputs": [
    {
     "name": "stdout",
     "output_type": "stream",
     "text": [
      "id                 0    id                 697585\n",
      "tariffID           0    tariffID           697585\n",
      "payment_type_id    0    payment_type_id    697585\n",
      "dtype: int64            dtype: int64             \n",
      "\n"
     ]
    }
   ],
   "source": [
    "side_by_side(taxiOrdersDF.isnull().sum(), taxiOrdersDF.count())"
   ]
  },
  {
   "cell_type": "code",
   "execution_count": 8,
   "metadata": {},
   "outputs": [
    {
     "name": "stdout",
     "output_type": "stream",
     "text": [
      "order_id                0    order_id                498787\n",
      "driving_time            0    driving_time            498787\n",
      "distance_cost_per_km    0    distance_cost_per_km    498787\n",
      "total_cost              0    total_cost              498787\n",
      "driving_distance        0    driving_distance        498787\n",
      "dtype: int64                 dtype: int64                  \n",
      "\n"
     ]
    }
   ],
   "source": [
    "side_by_side(taxiOrdersDetailsDF.isnull().sum(), taxiOrdersDetailsDF.count())"
   ]
  },
  {
   "cell_type": "markdown",
   "metadata": {},
   "source": [
    "### Let's join these two tables"
   ]
  },
  {
   "cell_type": "code",
   "execution_count": 9,
   "metadata": {},
   "outputs": [],
   "source": [
    "taxiOrdersDF['id'] = taxiOrdersDF['id'].astype('int64')\n",
    "taxiOrdersDF.rename(columns={'id':'order_id'}, inplace=True)\n",
    "taxiOrdersJoinTotalCostDF = pd.merge(taxiOrdersDF, taxiOrdersDetailsDF, on='order_id', how='inner')"
   ]
  },
  {
   "cell_type": "code",
   "execution_count": 10,
   "metadata": {},
   "outputs": [
    {
     "name": "stdout",
     "output_type": "stream",
     "text": [
      "order_id                0    order_id                498786\n",
      "tariffID                0    tariffID                498786\n",
      "payment_type_id         0    payment_type_id         498786\n",
      "driving_time            0    driving_time            498786\n",
      "distance_cost_per_km    0    distance_cost_per_km    498786\n",
      "total_cost              0    total_cost              498786\n",
      "driving_distance        0    driving_distance        498786\n",
      "dtype: int64                 dtype: int64                  \n",
      "\n"
     ]
    }
   ],
   "source": [
    "side_by_side(taxiOrdersJoinTotalCostDF.isnull().sum(), taxiOrdersJoinTotalCostDF.count())"
   ]
  },
  {
   "cell_type": "code",
   "execution_count": 11,
   "metadata": {},
   "outputs": [],
   "source": [
    "taxiOrdersJoinTotalCostDF.drop([\"order_id\"], axis=1, inplace = True) \n",
    "taxiOrdersDF = taxiOrdersJoinTotalCostDF # rename taxiOrdersJoinTotalCostDF "
   ]
  },
  {
   "cell_type": "markdown",
   "metadata": {},
   "source": [
    "# 2. Data Wrangling and Features Engineering\n"
   ]
  },
  {
   "cell_type": "code",
   "execution_count": 12,
   "metadata": {},
   "outputs": [
    {
     "data": {
      "text/html": [
       "<div>\n",
       "<style scoped>\n",
       "    .dataframe tbody tr th:only-of-type {\n",
       "        vertical-align: middle;\n",
       "    }\n",
       "\n",
       "    .dataframe tbody tr th {\n",
       "        vertical-align: top;\n",
       "    }\n",
       "\n",
       "    .dataframe thead th {\n",
       "        text-align: right;\n",
       "    }\n",
       "</style>\n",
       "<table border=\"1\" class=\"dataframe\">\n",
       "  <thead>\n",
       "    <tr style=\"text-align: right;\">\n",
       "      <th></th>\n",
       "      <th>count</th>\n",
       "      <th>mean</th>\n",
       "      <th>std</th>\n",
       "      <th>min</th>\n",
       "      <th>25%</th>\n",
       "      <th>50%</th>\n",
       "      <th>75%</th>\n",
       "      <th>max</th>\n",
       "    </tr>\n",
       "  </thead>\n",
       "  <tbody>\n",
       "    <tr>\n",
       "      <th>tariffID</th>\n",
       "      <td>498786.0</td>\n",
       "      <td>12.491658</td>\n",
       "      <td>16.466151</td>\n",
       "      <td>1.0</td>\n",
       "      <td>1.0</td>\n",
       "      <td>1.0</td>\n",
       "      <td>29.0</td>\n",
       "      <td>69.0</td>\n",
       "    </tr>\n",
       "    <tr>\n",
       "      <th>payment_type_id</th>\n",
       "      <td>498786.0</td>\n",
       "      <td>1.118428</td>\n",
       "      <td>0.413726</td>\n",
       "      <td>1.0</td>\n",
       "      <td>1.0</td>\n",
       "      <td>1.0</td>\n",
       "      <td>1.0</td>\n",
       "      <td>4.0</td>\n",
       "    </tr>\n",
       "    <tr>\n",
       "      <th>driving_time</th>\n",
       "      <td>498786.0</td>\n",
       "      <td>1063.402658</td>\n",
       "      <td>966.063730</td>\n",
       "      <td>0.0</td>\n",
       "      <td>540.0</td>\n",
       "      <td>850.0</td>\n",
       "      <td>1291.0</td>\n",
       "      <td>54386.0</td>\n",
       "    </tr>\n",
       "    <tr>\n",
       "      <th>distance_cost_per_km</th>\n",
       "      <td>498786.0</td>\n",
       "      <td>1259.211265</td>\n",
       "      <td>160.005550</td>\n",
       "      <td>800.0</td>\n",
       "      <td>1200.0</td>\n",
       "      <td>1200.0</td>\n",
       "      <td>1200.0</td>\n",
       "      <td>4000.0</td>\n",
       "    </tr>\n",
       "    <tr>\n",
       "      <th>total_cost</th>\n",
       "      <td>498786.0</td>\n",
       "      <td>15948.863665</td>\n",
       "      <td>51353.618045</td>\n",
       "      <td>2000.0</td>\n",
       "      <td>9100.0</td>\n",
       "      <td>13000.0</td>\n",
       "      <td>18600.0</td>\n",
       "      <td>8388607.0</td>\n",
       "    </tr>\n",
       "    <tr>\n",
       "      <th>driving_distance</th>\n",
       "      <td>498786.0</td>\n",
       "      <td>7961.282564</td>\n",
       "      <td>24457.078745</td>\n",
       "      <td>0.0</td>\n",
       "      <td>3971.0</td>\n",
       "      <td>6704.0</td>\n",
       "      <td>10356.0</td>\n",
       "      <td>8388607.0</td>\n",
       "    </tr>\n",
       "  </tbody>\n",
       "</table>\n",
       "</div>"
      ],
      "text/plain": [
       "                         count          mean           std     min     25%  \\\n",
       "tariffID              498786.0     12.491658     16.466151     1.0     1.0   \n",
       "payment_type_id       498786.0      1.118428      0.413726     1.0     1.0   \n",
       "driving_time          498786.0   1063.402658    966.063730     0.0   540.0   \n",
       "distance_cost_per_km  498786.0   1259.211265    160.005550   800.0  1200.0   \n",
       "total_cost            498786.0  15948.863665  51353.618045  2000.0  9100.0   \n",
       "driving_distance      498786.0   7961.282564  24457.078745     0.0  3971.0   \n",
       "\n",
       "                          50%      75%        max  \n",
       "tariffID                  1.0     29.0       69.0  \n",
       "payment_type_id           1.0      1.0        4.0  \n",
       "driving_time            850.0   1291.0    54386.0  \n",
       "distance_cost_per_km   1200.0   1200.0     4000.0  \n",
       "total_cost            13000.0  18600.0  8388607.0  \n",
       "driving_distance       6704.0  10356.0  8388607.0  "
      ]
     },
     "execution_count": 12,
     "metadata": {},
     "output_type": "execute_result"
    }
   ],
   "source": [
    "taxiOrdersDF.describe().T "
   ]
  },
  {
   "cell_type": "markdown",
   "metadata": {},
   "source": [
    "### Correlation between data"
   ]
  },
  {
   "cell_type": "code",
   "execution_count": 13,
   "metadata": {},
   "outputs": [
    {
     "data": {
      "text/plain": [
       "<matplotlib.axes._subplots.AxesSubplot at 0x28330e93828>"
      ]
     },
     "execution_count": 13,
     "metadata": {},
     "output_type": "execute_result"
    },
    {
     "data": {
      "image/png": "[encoded data removed]",
      "text/plain": [
       "<Figure size 432x288 with 2 Axes>"
      ]
     },
     "metadata": {
      "needs_background": "light"
     },
     "output_type": "display_data"
    }
   ],
   "source": [
    "corr = taxiOrdersDF.corr()\n",
    "sns.heatmap(corr, \n",
    "        xticklabels=corr.columns,\n",
    "        yticklabels=corr.columns)"
   ]
  },
  {
   "cell_type": "markdown",
   "metadata": {},
   "source": [
    "# 3. Training and Evaluating Machine Learning Model"
   ]
  },
  {
   "cell_type": "code",
   "execution_count": 14,
   "metadata": {},
   "outputs": [
    {
     "data": {
      "text/plain": [
       "(498786, 6)"
      ]
     },
     "execution_count": 14,
     "metadata": {},
     "output_type": "execute_result"
    }
   ],
   "source": [
    "taxiOrdersDF.shape"
   ]
  },
  {
   "cell_type": "code",
   "execution_count": 15,
   "metadata": {},
   "outputs": [
    {
     "data": {
      "text/plain": [
       "Index(['tariffID', 'payment_type_id', 'driving_time', 'distance_cost_per_km',\n",
       "       'total_cost', 'driving_distance'],\n",
       "      dtype='object')"
      ]
     },
     "execution_count": 15,
     "metadata": {},
     "output_type": "execute_result"
    }
   ],
   "source": [
    "taxiOrdersDF.columns"
   ]
  },
  {
   "cell_type": "code",
   "execution_count": 18,
   "metadata": {},
   "outputs": [],
   "source": [
    "taxiOrders_Y = taxiOrdersDF[\"total_cost\"]\n",
    "taxiOrders_X = taxiOrdersDF\n",
    "taxiOrders_X.drop([\"total_cost\"], axis=1, inplace = True) \n",
    "\n",
    "# Split the data into training/testing sets\n",
    "taxiOrders_X_train = taxiOrders_X[:-200]\n",
    "taxiOrders_X_test = taxiOrders_X[-200:]\n",
    "\n",
    "# Split the targets into training/testing sets\n",
    "taxiOrders_Y_train = taxiOrders_Y[:-200]\n",
    "taxiOrders_Y_test = taxiOrders_Y[-200:]"
   ]
  },
  {
   "cell_type": "markdown",
   "metadata": {},
   "source": [
    "### 3.1 Train"
   ]
  },
  {
   "cell_type": "code",
   "execution_count": null,
   "metadata": {},
   "outputs": [],
   "source": []
  }
 ],
 "metadata": {
  "kernelspec": {
   "display_name": "Python 3",
   "language": "python",
   "name": "python3"
  },
  "language_info": {
   "codemirror_mode": {
    "name": "ipython",
    "version": 3
   },
   "file_extension": ".py",
   "mimetype": "text/x-python",
   "name": "python",
   "nbconvert_exporter": "python",
   "pygments_lexer": "ipython3",
   "version": "3.6.5"
  }
 },
 "nbformat": 4,
 "nbformat_minor": 2
}
